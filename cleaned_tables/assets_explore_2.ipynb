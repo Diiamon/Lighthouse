{
 "cells": [
  {
   "cell_type": "markdown",
   "id": "762c02ae-c617-494c-b288-4968b552127f",
   "metadata": {},
   "source": [
    "## Importing Relevant Libraries"
   ]
  },
  {
   "cell_type": "code",
   "execution_count": 55,
   "id": "ae4c1a46-5282-48d3-b21d-0ba6bb7582a2",
   "metadata": {},
   "outputs": [],
   "source": [
    "import numpy as np  # numpy!\n",
    "import seaborn as sns # visualisation!\n",
    "import matplotlib.pyplot as plt # visualisation!\n",
    "import pandas as pd # dataframes & data analysis!\n",
    "\n",
    "import re #for Regex"
   ]
  },
  {
   "cell_type": "markdown",
   "id": "bf8e081b-621c-4cf6-849c-faeabd5fbec0",
   "metadata": {},
   "source": [
    "## Importing Data"
   ]
  },
  {
   "cell_type": "code",
   "execution_count": 56,
   "id": "48e49e08-116d-4a13-a707-01d64aa31aed",
   "metadata": {},
   "outputs": [],
   "source": [
    "# Load the dataset\n",
    "assets = pd.read_csv('assets.csv')"
   ]
  },
  {
   "cell_type": "code",
   "execution_count": 57,
   "id": "28d2b51c-2261-48cd-a50c-f85f6e6307ad",
   "metadata": {},
   "outputs": [
    {
     "data": {
      "text/html": [
       "<div>\n",
       "<style scoped>\n",
       "    .dataframe tbody tr th:only-of-type {\n",
       "        vertical-align: middle;\n",
       "    }\n",
       "\n",
       "    .dataframe tbody tr th {\n",
       "        vertical-align: top;\n",
       "    }\n",
       "\n",
       "    .dataframe thead th {\n",
       "        text-align: right;\n",
       "    }\n",
       "</style>\n",
       "<table border=\"1\" class=\"dataframe\">\n",
       "  <thead>\n",
       "    <tr style=\"text-align: right;\">\n",
       "      <th></th>\n",
       "      <th>type</th>\n",
       "      <th>name</th>\n",
       "      <th>organization</th>\n",
       "      <th>description</th>\n",
       "      <th>created_date</th>\n",
       "      <th>url</th>\n",
       "      <th>datasheet</th>\n",
       "      <th>modality</th>\n",
       "      <th>size</th>\n",
       "      <th>sample</th>\n",
       "      <th>...</th>\n",
       "      <th>model_card</th>\n",
       "      <th>training_emissions</th>\n",
       "      <th>training_time</th>\n",
       "      <th>training_hardware</th>\n",
       "      <th>adaptation</th>\n",
       "      <th>output_space</th>\n",
       "      <th>terms_of_service</th>\n",
       "      <th>monthly_active_users</th>\n",
       "      <th>user_distribution</th>\n",
       "      <th>failures</th>\n",
       "    </tr>\n",
       "  </thead>\n",
       "  <tbody>\n",
       "    <tr>\n",
       "      <th>0</th>\n",
       "      <td>dataset</td>\n",
       "      <td>ToyMix</td>\n",
       "      <td>Mila-Quebec AI Institute</td>\n",
       "      <td>ToyMix is the smallest dataset of three extens...</td>\n",
       "      <td>2023-10-09</td>\n",
       "      <td>https://arxiv.org/pdf/2310.04292.pdf</td>\n",
       "      <td>NaN</td>\n",
       "      <td>molecules, tasks</td>\n",
       "      <td>13B labels of quantum and biological nature.</td>\n",
       "      <td>[]</td>\n",
       "      <td>...</td>\n",
       "      <td>NaN</td>\n",
       "      <td>NaN</td>\n",
       "      <td>NaN</td>\n",
       "      <td>NaN</td>\n",
       "      <td>NaN</td>\n",
       "      <td>NaN</td>\n",
       "      <td>NaN</td>\n",
       "      <td>NaN</td>\n",
       "      <td>NaN</td>\n",
       "      <td>NaN</td>\n",
       "    </tr>\n",
       "  </tbody>\n",
       "</table>\n",
       "<p>1 rows × 31 columns</p>\n",
       "</div>"
      ],
      "text/plain": [
       "      type    name              organization  \\\n",
       "0  dataset  ToyMix  Mila-Quebec AI Institute   \n",
       "\n",
       "                                         description created_date  \\\n",
       "0  ToyMix is the smallest dataset of three extens...   2023-10-09   \n",
       "\n",
       "                                    url datasheet          modality  \\\n",
       "0  https://arxiv.org/pdf/2310.04292.pdf       NaN  molecules, tasks   \n",
       "\n",
       "                                           size sample  ... model_card  \\\n",
       "0  13B labels of quantum and biological nature.     []  ...        NaN   \n",
       "\n",
       "  training_emissions training_time training_hardware adaptation output_space  \\\n",
       "0                NaN           NaN               NaN        NaN          NaN   \n",
       "\n",
       "  terms_of_service monthly_active_users user_distribution failures  \n",
       "0              NaN                  NaN               NaN      NaN  \n",
       "\n",
       "[1 rows x 31 columns]"
      ]
     },
     "execution_count": 57,
     "metadata": {},
     "output_type": "execute_result"
    }
   ],
   "source": [
    "#Quick Check\n",
    "assets.head(1)"
   ]
  },
  {
   "cell_type": "code",
   "execution_count": 58,
   "id": "e5ff6e59-ad2a-4f2c-be6f-36da5e124689",
   "metadata": {},
   "outputs": [
    {
     "data": {
      "text/plain": [
       "(568, 31)"
      ]
     },
     "execution_count": 58,
     "metadata": {},
     "output_type": "execute_result"
    }
   ],
   "source": [
    "#Quick shape check\n",
    "assets.shape"
   ]
  },
  {
   "cell_type": "code",
   "execution_count": 59,
   "id": "6190beff-7bdc-4c1e-bc8e-311e63757ee6",
   "metadata": {},
   "outputs": [
    {
     "data": {
      "text/plain": [
       "Index(['type', 'name', 'organization', 'description', 'created_date', 'url',\n",
       "       'datasheet', 'modality', 'size', 'sample', 'analysis', 'dependencies',\n",
       "       'included', 'excluded', 'quality_control', 'access', 'license',\n",
       "       'intended_uses', 'prohibited_uses', 'monitoring', 'feedback',\n",
       "       'model_card', 'training_emissions', 'training_time',\n",
       "       'training_hardware', 'adaptation', 'output_space', 'terms_of_service',\n",
       "       'monthly_active_users', 'user_distribution', 'failures'],\n",
       "      dtype='object')"
      ]
     },
     "execution_count": 59,
     "metadata": {},
     "output_type": "execute_result"
    }
   ],
   "source": [
    "#Quick Columns check\n",
    "assets.columns"
   ]
  },
  {
   "cell_type": "markdown",
   "id": "aab36a3c-faa0-4a34-9d36-5bc356c18404",
   "metadata": {},
   "source": [
    "## Data Cleaning and Transformation"
   ]
  },
  {
   "cell_type": "code",
   "execution_count": 60,
   "id": "9832ab18-183e-4e7d-bbd0-6025a73dcb48",
   "metadata": {},
   "outputs": [],
   "source": [
    "import re\n",
    "import pandas as pd\n",
    "\n",
    "# Function to classify link types\n",
    "def link_name(column):\n",
    "    # Check if 'pdf' is in the column, classify as 'Scientific paper' if found\n",
    "    pdf_match = re.findall('pdf', str(column))\n",
    "    if pdf_match and pdf_match[0] == 'pdf':\n",
    "        return 'Scientific paper'\n",
    "    \n",
    "    # Check if 'github' is in the column, classify as 'Github Link' if found\n",
    "    github_match = re.findall('github', str(column))\n",
    "    if github_match and github_match[0] == 'github':\n",
    "        return 'Github Link'\n",
    "    \n",
    "    # Check if 'huggingface' is in the column, classify as 'Huggingface Link' if found\n",
    "    huggingface_match = re.findall('huggingface', str(column))\n",
    "    if huggingface_match and huggingface_match[0] == 'huggingface':\n",
    "        return 'Huggingface Link'\n",
    "    \n",
    "    # Check if 'blog' is in the column, classify as 'Blog' if found\n",
    "    blog_match = re.findall('blog', str(column))\n",
    "    if blog_match and blog_match[0] == 'blog':\n",
    "        return 'Blog'\n",
    "    \n",
    "    # Return 'Other' if none of the above conditions are met\n",
    "    return 'Other'\n",
    "\n",
    "# Function to classify model card types\n",
    "def model_card_type(column):\n",
    "    # Check if 'google' is in the column, classify as 'Google' if found\n",
    "    google_match = re.findall('google', str(column))\n",
    "    if google_match and google_match[0] == 'google':\n",
    "        return 'Google'\n",
    "    \n",
    "    # Check if 'github' is in the column, classify as 'Github' if found\n",
    "    github_match = re.findall('github', str(column))\n",
    "    if github_match and github_match[0] == 'github':\n",
    "        return 'Github'\n",
    "    \n",
    "    # Check if 'huggingface' is in the column, classify as 'Huggingface' if found\n",
    "    huggingface_match = re.findall('huggingface', str(column))\n",
    "    if huggingface_match and huggingface_match[0] == 'huggingface':\n",
    "        return 'Huggingface'\n",
    "    \n",
    "    # Check if 'arxiv' is in the column, classify as 'Arxiv' if found\n",
    "    arxiv_match = re.findall('arxiv', str(column))\n",
    "    if arxiv_match and arxiv_match[0] == 'arxiv':\n",
    "        return 'Arxiv'\n",
    "    \n",
    "    # Return 'Other' if none of the above conditions are met\n",
    "    return 'Other'\n",
    "\n",
    "# Function to clean and transform the dataset\n",
    "def cleaning(df):\n",
    "    # Make a copy of the DataFrame to avoid modifying the original one\n",
    "    df = df.copy()\n",
    "    \n",
    "    # Explode the 'dependencies' column if it contains lists\n",
    "    df = df.explode('dependencies')\n",
    "    \n",
    "    # Apply the 'link_name' function to the 'url' column to classify link types\n",
    "    df['link_type'] = df['url'].apply(link_name)\n",
    "    \n",
    "    # Apply the 'model_card_type' function to the 'model_card' column to classify model card types\n",
    "    df['model_type'] = df['model_card'].apply(model_card_type)\n",
    "    \n",
    "    # List of columns to be label encoded\n",
    "    id_columns = ['type', 'organization', 'created_date', 'link_type',\n",
    "                  'modality', 'size', 'dependencies', 'access', 'model_type']\n",
    "    \n",
    "    # Loop through chosen columns to label encode each column\n",
    "    for col in id_columns:\n",
    "        # Label encode each column by converting to categorical codes\n",
    "        df[f'{col}_id'] = df[col].astype('category').cat.codes\n",
    "    \n",
    "    # Return the cleaned and transformed DataFrame\n",
    "    return df"
   ]
  },
  {
   "cell_type": "code",
   "execution_count": 61,
   "id": "f5e341a6-58a3-45b7-b05a-43d993df0eda",
   "metadata": {},
   "outputs": [],
   "source": [
    "assets = cleaning(assets)"
   ]
  },
  {
   "cell_type": "code",
   "execution_count": 62,
   "id": "80776555-b579-4997-9482-dabe5584fb9b",
   "metadata": {},
   "outputs": [
    {
     "data": {
      "text/plain": [
       "Index(['type', 'name', 'organization', 'description', 'created_date', 'url',\n",
       "       'datasheet', 'modality', 'size', 'sample', 'analysis', 'dependencies',\n",
       "       'included', 'excluded', 'quality_control', 'access', 'license',\n",
       "       'intended_uses', 'prohibited_uses', 'monitoring', 'feedback',\n",
       "       'model_card', 'training_emissions', 'training_time',\n",
       "       'training_hardware', 'adaptation', 'output_space', 'terms_of_service',\n",
       "       'monthly_active_users', 'user_distribution', 'failures', 'link_type',\n",
       "       'model_type', 'type_id', 'organization_id', 'created_date_id',\n",
       "       'link_type_id', 'modality_id', 'size_id', 'dependencies_id',\n",
       "       'access_id', 'model_type_id'],\n",
       "      dtype='object')"
      ]
     },
     "execution_count": 62,
     "metadata": {},
     "output_type": "execute_result"
    }
   ],
   "source": [
    "assets.columns"
   ]
  },
  {
   "cell_type": "markdown",
   "id": "fe32c16e-9afa-4896-a3ed-c342e38508b3",
   "metadata": {},
   "source": [
    "## Creating And Saving Cleaned Tables"
   ]
  },
  {
   "cell_type": "code",
   "execution_count": 63,
   "id": "d57533d2-684e-441f-a7ae-a262ce51da19",
   "metadata": {},
   "outputs": [],
   "source": [
    "# Creating the tables\n",
    "llm_table = assets[['name', 'description','datasheet', 'sample','analysis','included','excluded','quality_control',\n",
    "                   'license','intended_uses','prohibited_uses','monitoring','feedback','training_emissions','training_time',\n",
    "                   'training_hardware','adaptation','output_space','terms_of_service','monthly_active_users',\n",
    "                    'user_distribution','failures','type_id', 'organization_id', 'created_date_id',\n",
    "                   'link_type_id', 'modality_id', 'size_id', 'dependencies_id',\n",
    "                   'access_id', 'model_type_id']].drop_duplicates()\n",
    "type_table = assets[['type_id', 'type']].drop_duplicates()\n",
    "organization_table = assets[['organization_id', 'organization']].drop_duplicates()\n",
    "created_date_table = assets[['created_date_id', 'created_date']].drop_duplicates()\n",
    "url_table = assets[['link_type_id', 'link_type','url']].drop_duplicates()\n",
    "modality_table = assets[['modality_id', 'modality']].drop_duplicates()\n",
    "size_table = assets[['size_id', 'size']].drop_duplicates()\n",
    "dependencies_table = assets[['dependencies_id', 'dependencies']].drop_duplicates()\n",
    "access_table = assets[['access_id', 'access']].drop_duplicates()\n",
    "model_card_table = assets[['model_type_id', 'model_type','model_card']].drop_duplicates()"
   ]
  },
  {
   "cell_type": "code",
   "execution_count": 64,
   "id": "f09808b9-946f-41f6-9e02-7320677dc7d5",
   "metadata": {},
   "outputs": [
    {
     "data": {
      "text/plain": [
       "(568, 31)"
      ]
     },
     "execution_count": 64,
     "metadata": {},
     "output_type": "execute_result"
    }
   ],
   "source": [
    "llm_table.shape"
   ]
  },
  {
   "cell_type": "code",
   "execution_count": 65,
   "id": "75daf281-b431-4283-bb8b-74fbd06e7272",
   "metadata": {},
   "outputs": [],
   "source": [
    "# Saving each table to a CSV file\n",
    "llm_table.to_csv('llm_table.csv', index=False)\n",
    "type_table.to_csv('type_table.csv', index=False)\n",
    "organization_table.to_csv('organization_table.csv', index=False)\n",
    "created_date_table.to_csv('created_date_table.csv', index=False)\n",
    "url_table.to_csv('url_table.csv', index=False)\n",
    "modality_table.to_csv('modality_table.csv', index=False)\n",
    "size_table.to_csv('size_table.csv', index=False)\n",
    "dependencies_table.to_csv('dependencies_table.csv', index=False)\n",
    "access_table.to_csv('access_table.csv', index=False)\n",
    "model_card_table.to_csv('model_card_table.csv', index=False)"
   ]
  }
 ],
 "metadata": {
  "kernelspec": {
   "display_name": "Python 3 (ipykernel)",
   "language": "python",
   "name": "python3"
  },
  "language_info": {
   "codemirror_mode": {
    "name": "ipython",
    "version": 3
   },
   "file_extension": ".py",
   "mimetype": "text/x-python",
   "name": "python",
   "nbconvert_exporter": "python",
   "pygments_lexer": "ipython3",
   "version": "3.9.7"
  }
 },
 "nbformat": 4,
 "nbformat_minor": 5
}
