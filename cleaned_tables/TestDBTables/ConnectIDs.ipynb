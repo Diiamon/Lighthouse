{
 "cells": [
  {
   "cell_type": "code",
   "execution_count": null,
   "id": "0eb59b3d-97db-4bab-be19-ecfaf292f283",
   "metadata": {},
   "outputs": [],
   "source": [
    "import numpy as np  # numpy!\n",
    "import seaborn as sns # visualisation!\n",
    "import matplotlib.pyplot as plt # visualisation!\n",
    "import pandas as pd # dataframes & data analysis!\n",
    "from ast import literal_eval\n",
    "import re #for Regex\n",
    "from dotenv import load_dotenv\n",
    "import os\n",
    "from fuzzywuzzy import fuzz\n",
    "from fuzzywuzzy import process\n",
    "import json"
   ]
  },
  {
   "cell_type": "markdown",
   "id": "6662b6ba-4e56-4f53-83a0-c382bc7f9c38",
   "metadata": {},
   "source": [
    "### MongoDb Connection"
   ]
  },
  {
   "cell_type": "code",
   "execution_count": null,
   "id": "aa253d73-abc1-4032-baab-7280177a8d87",
   "metadata": {},
   "outputs": [],
   "source": [
    "from pymongo import MongoClient\n",
    "\n",
    "#get secrets from .env\n",
    "load_dotenv()\n",
    "\n",
    "uri = os.getenv('URI')\n",
    "\n",
    "# Create a new client and connect to the server\n",
    "client = MongoClient(uri)\n",
    "# Send a ping to confirm a successful connection\n",
    "try:\n",
    "    client.admin.command('ping')\n",
    "    print(\"Pinged your deployment. You successfully connected to MongoDB!\")\n",
    "except Exception as e:\n",
    "    print(e)"
   ]
  },
  {
   "cell_type": "code",
   "execution_count": null,
   "id": "8d8dbf58-013b-4a30-bfbd-d4c980d5cac6",
   "metadata": {},
   "outputs": [],
   "source": [
    "db = client['lighthouse']\n",
    "\n",
    "# Get collection \n",
    "collection = db['llm_datas']\n",
    "collection.find_one()\n",
    "\n",
    "# get all in collection \n",
    "#documents = collection.find()\n",
    "\n",
    "# Print the documents\n",
    "#for document in documents:\n",
    "#    print(document)"
   ]
  },
  {
   "cell_type": "code",
   "execution_count": null,
   "id": "dadaefdd-7c74-4b34-890f-bcb811cca889",
   "metadata": {},
   "outputs": [],
   "source": [
    "db = client['lighthouse']\n",
    "collection_names = db.list_collection_names()\n",
    "print(collection_names)"
   ]
  },
  {
   "cell_type": "code",
   "execution_count": null,
   "id": "416e3d7f-7b5f-4a79-a646-33d4bd5d916a",
   "metadata": {},
   "outputs": [],
   "source": [
    "## loop through documents in LLM_data\n",
    "# update field objectids for each model\n",
    "def update_llm_data_with_objects():\n",
    "    \n",
    "    llm_collection = db['llm_datas']\n",
    "    \n",
    "    for doc in llm_collection.find():\n",
    "        updates = {}\n",
    "        model_name = doc[\"name\"]\n",
    "        document_id = doc[\"_id\"]\n",
    "        for field, ref_id in doc.items():\n",
    "            if field.endswith(\"_id\"):  # Identify reference fields\n",
    "                if field != '_id' and field != 'llm_data_id':\n",
    "                    x = field.rsplit(\"_\", 1)\n",
    "                    field_name = 'llm_' + x[0]\n",
    "                    if field_name == 'llm_excluded':\n",
    "                        collection_name = 'llm_exclusions'\n",
    "                    else:\n",
    "                        collection_name = process.extractOne(field_name, collection_names, scorer=fuzz.ratio)[0]\n",
    "                    \n",
    "                    # Perform lookup for the corresponding collection\n",
    "                    collection_name = db[collection_name]\n",
    "                    referenced_doc = collection_name.find_one({field: ref_id})\n",
    "                    if referenced_doc:  # Check if referenced document exists\n",
    "                        updates[field] = referenced_doc['_id']  # Update with the objectid from collection\n",
    "                        #print(referenced_doc['_id'])\n",
    "\n",
    "        #print(updates)            \n",
    "        result = llm_collection.update_one({\"_id\": document_id}, {\"$set\": updates})\n",
    "        \n",
    "        if result.matched_count > 0:\n",
    "            print(f\"Document with ID {document_id}, model: {model_name} updated successfully.\")\n",
    "        else:\n",
    "            print(f\"No document found with ID {document_id}.\")\n",
    "                \n",
    "        \n",
    "update_llm_data_with_objects()"
   ]
  },
  {
   "cell_type": "markdown",
   "id": "601c3270-83c9-4685-82b9-07c6d633e966",
   "metadata": {},
   "source": [
    "#### Join objectIDs of models with dependency "
   ]
  },
  {
   "cell_type": "code",
   "execution_count": null,
   "id": "e5951517-6f95-4f6e-a36a-1066fcd186ec",
   "metadata": {},
   "outputs": [],
   "source": [
    "def update_dependencies_id():\n",
    "    llm_collection = db['llm_dependencies']\n",
    "    for doc in llm_collection.find():\n",
    "        updates = {}\n",
    "        object_id_list = []\n",
    "        dependecies_ids = doc[\"dependencies_llm_ids\"]\n",
    "        document_id = doc[\"_id\"]\n",
    "        # Get model objectID from llm_datas for each model id\n",
    "        #print(dependecies_ids)\n",
    "        for id in dependecies_ids:\n",
    "            #print(id)\n",
    "            if id != None:\n",
    "                #print(id)\n",
    "                # Lookup id in main llm table\n",
    "                llm_data_table = db['llm_datas']\n",
    "                referenced_doc = llm_data_table.find_one({'llm_data_id': id})\n",
    "                #print(f'{referenced_doc[\"name\"]}: {referenced_doc[\"_id\"]}')\n",
    "                object_id_list.append(referenced_doc[\"_id\"])\n",
    "            else:\n",
    "                object_id_list.append(id)\n",
    "\n",
    "        print(f'Ids to add: {object_id_list}')\n",
    "        updates['dependencies_llm_ids'] = object_id_list\n",
    "        result = llm_collection.update_one({\"_id\": document_id}, {\"$set\": updates})\n",
    "        \n",
    "        if result.matched_count > 0:\n",
    "            print(f\"Document with ID {document_id} updated successfully.\")\n",
    "        else:\n",
    "            print(f\"No document found with ID {document_id}.\")\n",
    "\n",
    "update_dependencies_id()"
   ]
  },
  {
   "cell_type": "markdown",
   "id": "766126e1-065a-4786-b109-c9e478c671bc",
   "metadata": {},
   "source": [
    "#### Join objectIDs of scores table with lmm_data"
   ]
  },
  {
   "cell_type": "code",
   "execution_count": null,
   "id": "4db386b3-25fa-4eec-adc0-79768448db38",
   "metadata": {
    "scrolled": true
   },
   "outputs": [],
   "source": [
    "scores_collection = db['llm_test_scores']\n",
    "# for doc in scores_collection.find():\n",
    "#     print(doc['llm_data_model']) \n",
    "\n",
    "scores_collection.find_one()"
   ]
  },
  {
   "cell_type": "code",
   "execution_count": null,
   "id": "63a5afa1-fc56-4fd3-a8e5-e0f4f2025f3b",
   "metadata": {},
   "outputs": [],
   "source": [
    "# Add llm_data_model field to scores and fill with none\n",
    "scores_collection = db['llm_test_scores']\n",
    "# Define the update operation\n",
    "update_operation = {\n",
    "    \"$set\": {\n",
    "        \"llm_data_model\": None\n",
    "    }\n",
    "}\n",
    "\n",
    "# Update all documents in the collection\n",
    "result = scores_collection.update_many({}, update_operation)\n",
    "# Print the result of the update operation\n",
    "print(f\"Modified {result.modified_count} documents.\")"
   ]
  },
  {
   "cell_type": "code",
   "execution_count": null,
   "id": "938a1a61-f5f9-4e87-b22b-4a38679cf301",
   "metadata": {},
   "outputs": [],
   "source": [
    "# populate correct name to llm_test_scores llm_data_model field\n",
    "# Define the mapping between names and model names\n",
    "scores_collection = db['llm_test_scores']\n",
    "\n",
    "# Read the JSON data into a DataFrame\n",
    "# Opening JSON file\n",
    "f = open('Stanford_HELM_model_matches.JSON')\n",
    "data = json.load(f)\n",
    "#print(data)\n",
    "\n",
    "# Function to update documents based on the mapping\n",
    "def update_llm_data_model(collection, model_mapping):\n",
    "    for name, model in model_mapping.items():\n",
    "        if model != 'no_match':\n",
    "            result = collection.update_many(\n",
    "                {\"model\": model},\n",
    "                {\"$set\": {\"llm_data_model\": name}}\n",
    "            )\n",
    "            print(f\"Updated {result.modified_count} documents for model: {model} with llm_data_model: {name}\")\n",
    "\n",
    "# Call the function to update the documents\n",
    "update_llm_data_model(scores_collection, data)\n"
   ]
  },
  {
   "cell_type": "code",
   "execution_count": 68,
   "id": "f6dd5257-c0f0-4746-978d-92e8c3d68755",
   "metadata": {},
   "outputs": [
    {
     "name": "stdout",
     "output_type": "stream",
     "text": [
      "Updated document 669c43febcb5bda17074b731 with test_id 669a2393db0298c298c50927\n",
      "Updated document 669c43febcb5bda17074b73f with test_id 669a2393db0298c298c5093e\n",
      "Updated document 669c43febcb5bda17074b77f with test_id 66999aa18638ce80c646d131\n",
      "Updated document 669c43febcb5bda17074b78a with test_id 66999aae8638ce80c646d137\n",
      "Updated document 669c43febcb5bda17074b7ba with test_id 669a2393db0298c298c5092e\n",
      "Updated document 669c43febcb5bda17074b7bb with test_id 669a2393db0298c298c5092d\n",
      "Updated document 669c43febcb5bda17074b7bc with test_id 669a2393db0298c298c5092a\n",
      "Updated document 669c43febcb5bda17074b7bd with test_id 669a2393db0298c298c5092b\n",
      "Updated document 669c43febcb5bda17074b7bf with test_id 66999aa18638ce80c646d12e\n",
      "Updated document 669c43febcb5bda17074b7d3 with test_id 669a2393db0298c298c5092f\n",
      "Updated document 669c43febcb5bda17074b7dd with test_id 66999a498638ce80c646d126\n",
      "Updated document 669c43febcb5bda17074b7f0 with test_id 669a2393db0298c298c50940\n",
      "Updated document 669c43febcb5bda17074b823 with test_id 669a2393db0298c298c50937\n",
      "Updated document 669c43febcb5bda17074b824 with test_id 66999aa18638ce80c646d135\n",
      "Updated document 669c43febcb5bda17074b83c with test_id 669a2393db0298c298c50939\n",
      "Updated document 669c43febcb5bda17074b83d with test_id 66999a498638ce80c646d129\n",
      "Updated document 669c43febcb5bda17074b841 with test_id 669a2393db0298c298c5093c\n",
      "Updated document 669c43febcb5bda17074b842 with test_id 669a2393db0298c298c5093d\n",
      "Updated document 669c43febcb5bda17074b84d with test_id 669a2393db0298c298c5093a\n",
      "Updated document 669c43febcb5bda17074b852 with test_id 66999a498638ce80c646d12a\n",
      "Updated document 669c43febcb5bda17074b897 with test_id 66999a1d8638ce80c646d123\n",
      "Updated document 669c43febcb5bda17074b899 with test_id 66999aae8638ce80c646d138\n",
      "Updated document 669c43febcb5bda17074b8a4 with test_id 669a2393db0298c298c50935\n",
      "Updated document 669c43febcb5bda17074b8cb with test_id 66999aa18638ce80c646d132\n",
      "Updated document 669c43febcb5bda17074b8f5 with test_id 669a2387db0298c298c50921\n",
      "Updated document 669c43febcb5bda17074b901 with test_id 669a2393db0298c298c50923\n",
      "Updated document 669c43febcb5bda17074b913 with test_id 669a2393db0298c298c50936\n",
      "Updated document 669c43febcb5bda17074b914 with test_id 669a2393db0298c298c50934\n",
      "Updated document 669c43febcb5bda17074b921 with test_id 66999aae8638ce80c646d139\n",
      "Updated document 669c43febcb5bda17074b945 with test_id 66999a1d8638ce80c646d124\n",
      "Updated document 669c43febcb5bda17074b955 with test_id 66999aae8638ce80c646d13c\n",
      "Updated document 669c43febcb5bda17074b956 with test_id 66999aae8638ce80c646d13e\n"
     ]
    }
   ],
   "source": [
    "# use llm_data_model field to compare name with model_name in llm_data \n",
    "# to get ObjectID of score in llm_data\n",
    "\n",
    "# Collections\n",
    "llm_collection = db['llm_datas']  # Collection with model data\n",
    "scores_collection = db['llm_test_scores'] # Collection with test scores\n",
    "\n",
    "# Get all models in scores table that are in llm_datas table\n",
    "model_id_mapping = {}\n",
    "for doc in scores_collection.find({}, {\"_id\": 1, \"llm_data_model\": 1}):\n",
    "    if doc['llm_data_model'] != None:\n",
    "        model_id_mapping[doc[\"llm_data_model\"]] = doc[\"_id\"]\n",
    "\n",
    "# populate score id in llm_datas table\n",
    "for doc in llm_collection.find():\n",
    "    llm_data_name = doc.get(\"name\")\n",
    "    \n",
    "    if llm_data_name in model_id_mapping:\n",
    "        model_id = doc.get(\"_id\")\n",
    "        test_scores_id = model_id_mapping[llm_data_name]\n",
    "        result = llm_collection.update_one(\n",
    "                {\"_id\": model_id},\n",
    "                {\"$set\": {\"test_scores_id\": test_scores_id}}\n",
    "            )\n",
    "        print(f\"Updated document {model_id} with test_id {test_scores_id}\")\n",
    "  \n"
   ]
  }
 ],
 "metadata": {
  "kernelspec": {
   "display_name": "Python 3 (ipykernel)",
   "language": "python",
   "name": "python3"
  },
  "language_info": {
   "codemirror_mode": {
    "name": "ipython",
    "version": 3
   },
   "file_extension": ".py",
   "mimetype": "text/x-python",
   "name": "python",
   "nbconvert_exporter": "python",
   "pygments_lexer": "ipython3",
   "version": "3.11.7"
  }
 },
 "nbformat": 4,
 "nbformat_minor": 5
}
