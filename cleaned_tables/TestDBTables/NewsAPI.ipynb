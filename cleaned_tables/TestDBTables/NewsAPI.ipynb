{
 "cells": [
  {
   "cell_type": "markdown",
   "id": "ed3eb6ee-d8a3-4940-b15a-9985f2839bff",
   "metadata": {},
   "source": [
    "## LLM News API stream"
   ]
  },
  {
   "cell_type": "code",
   "execution_count": 91,
   "id": "023a2f70-85e0-46ea-8128-6ec8f5b59de1",
   "metadata": {},
   "outputs": [],
   "source": [
    "import requests\n",
    "from pprint import pprint \n",
    "from dotenv import load_dotenv\n",
    "import os\n",
    "import pandas as pd"
   ]
  },
  {
   "cell_type": "code",
   "execution_count": 73,
   "id": "bf7ca2e8-a94c-4ae3-9be7-7af2d24814ad",
   "metadata": {},
   "outputs": [],
   "source": [
    "#get secrets from .env\n",
    "load_dotenv()\n",
    "\n",
    "API_KEY_NEWS = os.getenv('API_KEY_NEWS')\n",
    "API_KEY_NEWSDATA = os.getenv('API_KEY_NEWSDATA')\n",
    "\n"
   ]
  },
  {
   "cell_type": "code",
   "execution_count": null,
   "id": "52850ea9-2e3f-44f3-aa66-06df777158c8",
   "metadata": {
    "scrolled": true
   },
   "outputs": [],
   "source": [
    "#Search for keyword in title\n",
    "response = requests.get(f\"https://newsapi.org/v2/everything?q=Gemini&searchIn=title&sortBy=popularity&from=2024-07-20&language=en&apiKey={API_KEY_NEWS}\") \n",
    "#response = requests.get(f\"https://newsapi.org/v2/everything?q=LLM&title=Gemini&sortBy=popularity&from=2024-07-20&language=en&apiKey={API_KEY}\") \n",
    "\n",
    "\n",
    "print(response.status_code)\n",
    "json_res = response.json()\n",
    "pprint(json_res)"
   ]
  },
  {
   "cell_type": "code",
   "execution_count": 51,
   "id": "b7c70248-5151-42c9-af87-8993db075ea2",
   "metadata": {},
   "outputs": [
    {
     "name": "stdout",
     "output_type": "stream",
     "text": [
      "Google just updated Gemini with a brand-new voice - Android Police\n",
      "Report: Google wants Gemini smart glasses, looking to partner with Ray-Ban’s EssilorLuxottica - 9to5google.com\n",
      "Finally, new Android update gives Gemini the lock screen feature we've all been hoping for - ZDNet\n",
      "Google wants to steal Ray-Ban maker from Meta for Gemini smart glasses - Android Authority\n",
      "Google teases 22 Pixel 9 Pro camera, Gemini, & other features [Video] - 9to5Google - Slashdot.org\n"
     ]
    }
   ],
   "source": [
    "for x in json_res['articles']:\n",
    "    print(x['title']+ ' - ' + x['source']['name'])\n",
    "\n"
   ]
  },
  {
   "cell_type": "markdown",
   "id": "4b2832c1-e9ff-4b1f-9e61-703fcf8ce293",
   "metadata": {},
   "source": [
    "### Get news for all models names newsapi.org"
   ]
  },
  {
   "cell_type": "code",
   "execution_count": 117,
   "id": "cdb9906f-6da7-4947-8153-454b2761f004",
   "metadata": {
    "scrolled": true
   },
   "outputs": [],
   "source": [
    "# Function to search for any article for a query \n",
    "def search_articles_newsapi(name):\n",
    "    # Define the API endpoint and API key\n",
    "    url = \"https://newsapi.org/v2/everything\"\n",
    "    params = {\n",
    "        'q': f'{name}',  # Search for the name \n",
    "        'searchIn': 'title',\n",
    "        'sortBy': 'popularity',\n",
    "        'from': '2024-07-20',\n",
    "        'language': 'en',\n",
    "        'apiKey': API_KEY_NEWS\n",
    "    }\n",
    "    response = requests.get(url, params=params)\n",
    "    return response.json()\n",
    "\n",
    "# Function to get headlines for a query\n",
    "def search_headlines_newsapi(name):\n",
    "    # Define the API endpoint and API key\n",
    "    url = \"https://newsapi.org/v2/top-headlines\"\n",
    "    params = {\n",
    "        'q': f'{name}',  # Search for the name \n",
    "        'language': 'en',\n",
    "        'apiKey': API_KEY_NEWS\n",
    "    }\n",
    "    response = requests.get(url, params=params)\n",
    "    return response.json()\n",
    "\n"
   ]
  },
  {
   "cell_type": "code",
   "execution_count": null,
   "id": "5261095c-6eb3-4cc2-8f67-6a17b46e0406",
   "metadata": {},
   "outputs": [],
   "source": [
    "data = pd.read_csv('all_assets.csv')\n",
    "names = data['name'].tolist()\n",
    "names\n",
    "\n",
    "# Loop through each name and perform the search\n",
    "results = {}\n",
    "for name in names[:10]:\n",
    "    result = search_articles_newsapi(name)\n",
    "    results[name] = result\n",
    "\n",
    "# Print the results (or you can save them to a file)\n",
    "for name, result in results.items():\n",
    "    print(f\"Results for {name}:\")\n",
    "    print(result)"
   ]
  },
  {
   "cell_type": "code",
   "execution_count": 131,
   "id": "f69bdb77-0fab-460d-94ba-f00f6937370b",
   "metadata": {},
   "outputs": [
    {
     "data": {
      "text/plain": [
       "{'status': 'ok',\n",
       " 'totalResults': 1,\n",
       " 'articles': [{'source': {'id': None, 'name': 'NPR'},\n",
       "   'author': '',\n",
       "   'title': 'As new tech threatens jobs, Silicon Valley promotes no-strings cash aid - NPR',\n",
       "   'description': 'Many tech entrepreneurs have long suggested that guaranteed income could cushion job losses from AI and automation. The latest and largest study of the idea was spearheaded by the man behind ChatGPT.',\n",
       "   'url': 'https://www.npr.org/2024/07/19/nx-s1-5035263/basic-income-cash-aid-ai-sam-altman-silicon-valley-jobs',\n",
       "   'urlToImage': 'https://npr.brightspotcdn.com/dims3/default/strip/false/crop/5000x2813+0+0/resize/1400/quality/100/format/jpeg/?url=http%3A%2F%2Fnpr-brightspot.s3.amazonaws.com%2F93%2Fd7%2Fcaf6121546d9968582eee8d2c367%2Faibasicincome.jpg',\n",
       "   'publishedAt': '2024-07-22T05:00:00Z',\n",
       "   'content': \"The rise of artificial intelligence has stoked fears that such technological advances will wipe out millions of jobs. Silicon Valley entrepreneurs have thought about that too, and they've long pushed… [+7588 chars]\"}]}"
      ]
     },
     "execution_count": 131,
     "metadata": {},
     "output_type": "execute_result"
    }
   ],
   "source": [
    "search_headlines_newsapi('LLM')"
   ]
  },
  {
   "cell_type": "markdown",
   "id": "fa74ee06-a952-4af6-b0eb-a39452242deb",
   "metadata": {},
   "source": [
    "### NewsData.io "
   ]
  },
  {
   "cell_type": "code",
   "execution_count": 111,
   "id": "7258e9df-7e8e-499b-b188-87634be6bfa0",
   "metadata": {},
   "outputs": [],
   "source": [
    "\n",
    "#response = requests.get('https://newsdata.io/api/1/archive?apikey=pub_4912971fb6dd5ccd45f7a21d6a3293bf094e8&q=Gemini&language=en&from_date=2024-07-20')\n",
    "# response = requests.get(F'https://newsdata.io/api/1/latest?apikey={API_KEY_NEWSDATA}&q=Llama 3&language=en&prioritydomain=medium&country=au,us,gb&category=technology')\n",
    "# print(response.status_code)\n",
    "# json_res = response.json()\n",
    "# pprint(json_res)\n",
    "# Function to search for each name\n",
    "\n",
    "def search_articles_newsdataapi(name):\n",
    "    # Define the API endpoint and API key\n",
    "    url = \"https://newsdata.io/api/1/latest\"\n",
    "    params = {\n",
    "        'qInTitle':  f'{name}',\n",
    "        'language': 'en',\n",
    "        'prioritydomain': 'medium',\n",
    "        'country': 'au,us,gb,jp',\n",
    "        'category': 'technology',\n",
    "        'apiKey': API_KEY_NEWSDATA\n",
    "    }\n",
    "    response = requests.get(url, params=params)\n",
    "    # more general search\n",
    "    if response.json()['totalResults'] == 0:\n",
    "        params = {\n",
    "        'q':  f'{name}',\n",
    "        'language': 'en',\n",
    "        'prioritydomain': 'medium',\n",
    "        'country': 'au,us,gb',\n",
    "        'category': 'technology',\n",
    "        'apiKey': API_KEY_NEWSDATA\n",
    "        }\n",
    "        response = requests.get(url, params=params)\n",
    "        \n",
    "    return response.json()"
   ]
  },
  {
   "cell_type": "code",
   "execution_count": null,
   "id": "03974fcf-0b53-4482-b8dd-d96d6ed97c40",
   "metadata": {},
   "outputs": [],
   "source": [
    "model_list = ['GPT-4o', 'GPT-4','GPT-3','Llama 3','Llama 2','Gemini 1.5 Flash','Gemini']\n",
    "model_companies = ['OpenAI', 'Meta Llama', 'Gemini', 'GPT', 'LLM']\n",
    "# Loop through each model and perform the search\n",
    "results = {}\n",
    "for name in model_list:\n",
    "    result = search_articles_newsdataapi(name)\n",
    "    results[name] = result\n",
    "    print(f'Getting {name}')\n",
    "for company in model_companies:\n",
    "    result = search_articles_newsdataapi(company)\n",
    "    results[company] = result\n",
    "    print('getting ' + company)\n",
    "    \n",
    "# Prepare data for MongoDB insertion\n",
    "documents = []\n",
    "for name, result in results.items():\n",
    "    articles = result.get('results', [])\n",
    "    filtered_articles = []\n",
    "    \n",
    "    for article in articles:\n",
    "        filtered_article = {\n",
    "            'title': article.get('title'),\n",
    "            'link': article.get('link'),\n",
    "            'description': article.get('description'),\n",
    "            'pubDate': article.get('pubDate'),\n",
    "            'image_url': article.get('image_url'),\n",
    "            'source_url': article.get('source_url'),\n",
    "            'source_icon': article.get('source_icon'),\n",
    "            'country': article.get('country')\n",
    "        }\n",
    "        filtered_articles.append(filtered_article)  \n",
    "        \n",
    "    doc = {\n",
    "        'query': name,\n",
    "        'articles': filtered_articles\n",
    "    }\n",
    "    documents.append(doc)\n",
    "\n",
    "# Print the inserted documents (or save them to a file if needed)\n",
    "for doc in documents:\n",
    "    print(json.dumps(doc, indent=4))\n",
    "\n",
    "# Insert the documents into MongoDB\n",
    "db = client['lighthouse']\n",
    "\n",
    "# Get collection \n",
    "collection = db['llm_news']\n",
    "collection.insert_many(documents)\n",
    "\n"
   ]
  },
  {
   "cell_type": "markdown",
   "id": "ebaeefef-d1ff-4de3-b14e-c36a4f77b664",
   "metadata": {},
   "source": [
    "### Connect to Mongo"
   ]
  },
  {
   "cell_type": "code",
   "execution_count": 128,
   "id": "df09b7fb-0d40-410d-8b2b-66fdd4cadfc5",
   "metadata": {},
   "outputs": [
    {
     "name": "stdout",
     "output_type": "stream",
     "text": [
      "Pinged your deployment. You successfully connected to MongoDB!\n"
     ]
    }
   ],
   "source": [
    "from pymongo import MongoClient\n",
    "\n",
    "#get secrets from .env\n",
    "load_dotenv()\n",
    "\n",
    "uri = os.getenv('URI')\n",
    "\n",
    "# Create a new client and connect to the server\n",
    "client = MongoClient(uri)\n",
    "# Send a ping to confirm a successful connection\n",
    "try:\n",
    "    client.admin.command('ping')\n",
    "    print(\"Pinged your deployment. You successfully connected to MongoDB!\")\n",
    "except Exception as e:\n",
    "    print(e)\n"
   ]
  }
 ],
 "metadata": {
  "kernelspec": {
   "display_name": "Python 3 (ipykernel)",
   "language": "python",
   "name": "python3"
  },
  "language_info": {
   "codemirror_mode": {
    "name": "ipython",
    "version": 3
   },
   "file_extension": ".py",
   "mimetype": "text/x-python",
   "name": "python",
   "nbconvert_exporter": "python",
   "pygments_lexer": "ipython3",
   "version": "3.11.7"
  }
 },
 "nbformat": 4,
 "nbformat_minor": 5
}
